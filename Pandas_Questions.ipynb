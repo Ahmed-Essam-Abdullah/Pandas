{
  "nbformat": 4,
  "nbformat_minor": 0,
  "metadata": {
    "colab": {
      "provenance": [],
      "include_colab_link": true
    },
    "kernelspec": {
      "name": "python3",
      "display_name": "Python 3"
    },
    "language_info": {
      "name": "python"
    }
  },
  "cells": [
    {
      "cell_type": "markdown",
      "metadata": {
        "id": "view-in-github",
        "colab_type": "text"
      },
      "source": [
        "<a href=\"https://colab.research.google.com/github/Ahmed-Essam-Abdullah/Pandas/blob/main/Pandas_Questions.ipynb\" target=\"_parent\"><img src=\"https://colab.research.google.com/assets/colab-badge.svg\" alt=\"Open In Colab\"/></a>"
      ]
    },
    {
      "cell_type": "markdown",
      "source": [
        "# 🐼 Pandas Practice: DataFrames, Selection, Mapping, and More\n"
      ],
      "metadata": {
        "id": "ePeg5X6c1i76"
      }
    },
    {
      "cell_type": "code",
      "source": [
        "import pandas as pd\n",
        "import numpy as np\n",
        "\n",
        "# Set seed for reproducibility\n",
        "np.random.seed(42)\n",
        "\n",
        "# Sample data\n",
        "names = ['Alice', 'Bob', 'Charlie', 'Diana', 'Ethan', 'Fiona', 'George', 'Hannah']\n",
        "departments = ['Sales', 'Marketing', 'HR', 'Tech']\n",
        "\n",
        "# Create a DataFrame\n",
        "df = pd.DataFrame({\n",
        "    'Name': np.random.choice(names, size=20),\n",
        "    'Age': np.random.randint(22, 60, size=20),\n",
        "    'Department': np.random.choice(departments, size=20),\n",
        "    'Salary': np.random.randint(40000, 120000, size=20),\n",
        "    'YearsExperience': np.random.randint(0, 20, size=20)\n",
        "})\n",
        "df.head()"
      ],
      "metadata": {
        "id": "OTuYqCvk15t6",
        "colab": {
          "base_uri": "https://localhost:8080/",
          "height": 206
        },
        "outputId": "68614b23-28cb-4b48-8ce2-c7c752c8fb02"
      },
      "execution_count": 17,
      "outputs": [
        {
          "output_type": "execute_result",
          "data": {
            "text/plain": [
              "      Name  Age Department  Salary  YearsExperience\n",
              "0   George   43         HR   75920               15\n",
              "1    Diana   23  Marketing  107121               12\n",
              "2    Ethan   45       Tech  109479               17\n",
              "3   George   51      Sales   59457               14\n",
              "4  Charlie   59       Tech  106557               12"
            ],
            "text/html": [
              "\n",
              "  <div id=\"df-bddf7e00-ab22-4f15-80d1-edae61bbfd1d\" class=\"colab-df-container\">\n",
              "    <div>\n",
              "<style scoped>\n",
              "    .dataframe tbody tr th:only-of-type {\n",
              "        vertical-align: middle;\n",
              "    }\n",
              "\n",
              "    .dataframe tbody tr th {\n",
              "        vertical-align: top;\n",
              "    }\n",
              "\n",
              "    .dataframe thead th {\n",
              "        text-align: right;\n",
              "    }\n",
              "</style>\n",
              "<table border=\"1\" class=\"dataframe\">\n",
              "  <thead>\n",
              "    <tr style=\"text-align: right;\">\n",
              "      <th></th>\n",
              "      <th>Name</th>\n",
              "      <th>Age</th>\n",
              "      <th>Department</th>\n",
              "      <th>Salary</th>\n",
              "      <th>YearsExperience</th>\n",
              "    </tr>\n",
              "  </thead>\n",
              "  <tbody>\n",
              "    <tr>\n",
              "      <th>0</th>\n",
              "      <td>George</td>\n",
              "      <td>43</td>\n",
              "      <td>HR</td>\n",
              "      <td>75920</td>\n",
              "      <td>15</td>\n",
              "    </tr>\n",
              "    <tr>\n",
              "      <th>1</th>\n",
              "      <td>Diana</td>\n",
              "      <td>23</td>\n",
              "      <td>Marketing</td>\n",
              "      <td>107121</td>\n",
              "      <td>12</td>\n",
              "    </tr>\n",
              "    <tr>\n",
              "      <th>2</th>\n",
              "      <td>Ethan</td>\n",
              "      <td>45</td>\n",
              "      <td>Tech</td>\n",
              "      <td>109479</td>\n",
              "      <td>17</td>\n",
              "    </tr>\n",
              "    <tr>\n",
              "      <th>3</th>\n",
              "      <td>George</td>\n",
              "      <td>51</td>\n",
              "      <td>Sales</td>\n",
              "      <td>59457</td>\n",
              "      <td>14</td>\n",
              "    </tr>\n",
              "    <tr>\n",
              "      <th>4</th>\n",
              "      <td>Charlie</td>\n",
              "      <td>59</td>\n",
              "      <td>Tech</td>\n",
              "      <td>106557</td>\n",
              "      <td>12</td>\n",
              "    </tr>\n",
              "  </tbody>\n",
              "</table>\n",
              "</div>\n",
              "    <div class=\"colab-df-buttons\">\n",
              "\n",
              "  <div class=\"colab-df-container\">\n",
              "    <button class=\"colab-df-convert\" onclick=\"convertToInteractive('df-bddf7e00-ab22-4f15-80d1-edae61bbfd1d')\"\n",
              "            title=\"Convert this dataframe to an interactive table.\"\n",
              "            style=\"display:none;\">\n",
              "\n",
              "  <svg xmlns=\"http://www.w3.org/2000/svg\" height=\"24px\" viewBox=\"0 -960 960 960\">\n",
              "    <path d=\"M120-120v-720h720v720H120Zm60-500h600v-160H180v160Zm220 220h160v-160H400v160Zm0 220h160v-160H400v160ZM180-400h160v-160H180v160Zm440 0h160v-160H620v160ZM180-180h160v-160H180v160Zm440 0h160v-160H620v160Z\"/>\n",
              "  </svg>\n",
              "    </button>\n",
              "\n",
              "  <style>\n",
              "    .colab-df-container {\n",
              "      display:flex;\n",
              "      gap: 12px;\n",
              "    }\n",
              "\n",
              "    .colab-df-convert {\n",
              "      background-color: #E8F0FE;\n",
              "      border: none;\n",
              "      border-radius: 50%;\n",
              "      cursor: pointer;\n",
              "      display: none;\n",
              "      fill: #1967D2;\n",
              "      height: 32px;\n",
              "      padding: 0 0 0 0;\n",
              "      width: 32px;\n",
              "    }\n",
              "\n",
              "    .colab-df-convert:hover {\n",
              "      background-color: #E2EBFA;\n",
              "      box-shadow: 0px 1px 2px rgba(60, 64, 67, 0.3), 0px 1px 3px 1px rgba(60, 64, 67, 0.15);\n",
              "      fill: #174EA6;\n",
              "    }\n",
              "\n",
              "    .colab-df-buttons div {\n",
              "      margin-bottom: 4px;\n",
              "    }\n",
              "\n",
              "    [theme=dark] .colab-df-convert {\n",
              "      background-color: #3B4455;\n",
              "      fill: #D2E3FC;\n",
              "    }\n",
              "\n",
              "    [theme=dark] .colab-df-convert:hover {\n",
              "      background-color: #434B5C;\n",
              "      box-shadow: 0px 1px 3px 1px rgba(0, 0, 0, 0.15);\n",
              "      filter: drop-shadow(0px 1px 2px rgba(0, 0, 0, 0.3));\n",
              "      fill: #FFFFFF;\n",
              "    }\n",
              "  </style>\n",
              "\n",
              "    <script>\n",
              "      const buttonEl =\n",
              "        document.querySelector('#df-bddf7e00-ab22-4f15-80d1-edae61bbfd1d button.colab-df-convert');\n",
              "      buttonEl.style.display =\n",
              "        google.colab.kernel.accessAllowed ? 'block' : 'none';\n",
              "\n",
              "      async function convertToInteractive(key) {\n",
              "        const element = document.querySelector('#df-bddf7e00-ab22-4f15-80d1-edae61bbfd1d');\n",
              "        const dataTable =\n",
              "          await google.colab.kernel.invokeFunction('convertToInteractive',\n",
              "                                                    [key], {});\n",
              "        if (!dataTable) return;\n",
              "\n",
              "        const docLinkHtml = 'Like what you see? Visit the ' +\n",
              "          '<a target=\"_blank\" href=https://colab.research.google.com/notebooks/data_table.ipynb>data table notebook</a>'\n",
              "          + ' to learn more about interactive tables.';\n",
              "        element.innerHTML = '';\n",
              "        dataTable['output_type'] = 'display_data';\n",
              "        await google.colab.output.renderOutput(dataTable, element);\n",
              "        const docLink = document.createElement('div');\n",
              "        docLink.innerHTML = docLinkHtml;\n",
              "        element.appendChild(docLink);\n",
              "      }\n",
              "    </script>\n",
              "  </div>\n",
              "\n",
              "\n",
              "    <div id=\"df-4eb5c936-4f4e-4138-8c7c-1a50fb30feaa\">\n",
              "      <button class=\"colab-df-quickchart\" onclick=\"quickchart('df-4eb5c936-4f4e-4138-8c7c-1a50fb30feaa')\"\n",
              "                title=\"Suggest charts\"\n",
              "                style=\"display:none;\">\n",
              "\n",
              "<svg xmlns=\"http://www.w3.org/2000/svg\" height=\"24px\"viewBox=\"0 0 24 24\"\n",
              "     width=\"24px\">\n",
              "    <g>\n",
              "        <path d=\"M19 3H5c-1.1 0-2 .9-2 2v14c0 1.1.9 2 2 2h14c1.1 0 2-.9 2-2V5c0-1.1-.9-2-2-2zM9 17H7v-7h2v7zm4 0h-2V7h2v10zm4 0h-2v-4h2v4z\"/>\n",
              "    </g>\n",
              "</svg>\n",
              "      </button>\n",
              "\n",
              "<style>\n",
              "  .colab-df-quickchart {\n",
              "      --bg-color: #E8F0FE;\n",
              "      --fill-color: #1967D2;\n",
              "      --hover-bg-color: #E2EBFA;\n",
              "      --hover-fill-color: #174EA6;\n",
              "      --disabled-fill-color: #AAA;\n",
              "      --disabled-bg-color: #DDD;\n",
              "  }\n",
              "\n",
              "  [theme=dark] .colab-df-quickchart {\n",
              "      --bg-color: #3B4455;\n",
              "      --fill-color: #D2E3FC;\n",
              "      --hover-bg-color: #434B5C;\n",
              "      --hover-fill-color: #FFFFFF;\n",
              "      --disabled-bg-color: #3B4455;\n",
              "      --disabled-fill-color: #666;\n",
              "  }\n",
              "\n",
              "  .colab-df-quickchart {\n",
              "    background-color: var(--bg-color);\n",
              "    border: none;\n",
              "    border-radius: 50%;\n",
              "    cursor: pointer;\n",
              "    display: none;\n",
              "    fill: var(--fill-color);\n",
              "    height: 32px;\n",
              "    padding: 0;\n",
              "    width: 32px;\n",
              "  }\n",
              "\n",
              "  .colab-df-quickchart:hover {\n",
              "    background-color: var(--hover-bg-color);\n",
              "    box-shadow: 0 1px 2px rgba(60, 64, 67, 0.3), 0 1px 3px 1px rgba(60, 64, 67, 0.15);\n",
              "    fill: var(--button-hover-fill-color);\n",
              "  }\n",
              "\n",
              "  .colab-df-quickchart-complete:disabled,\n",
              "  .colab-df-quickchart-complete:disabled:hover {\n",
              "    background-color: var(--disabled-bg-color);\n",
              "    fill: var(--disabled-fill-color);\n",
              "    box-shadow: none;\n",
              "  }\n",
              "\n",
              "  .colab-df-spinner {\n",
              "    border: 2px solid var(--fill-color);\n",
              "    border-color: transparent;\n",
              "    border-bottom-color: var(--fill-color);\n",
              "    animation:\n",
              "      spin 1s steps(1) infinite;\n",
              "  }\n",
              "\n",
              "  @keyframes spin {\n",
              "    0% {\n",
              "      border-color: transparent;\n",
              "      border-bottom-color: var(--fill-color);\n",
              "      border-left-color: var(--fill-color);\n",
              "    }\n",
              "    20% {\n",
              "      border-color: transparent;\n",
              "      border-left-color: var(--fill-color);\n",
              "      border-top-color: var(--fill-color);\n",
              "    }\n",
              "    30% {\n",
              "      border-color: transparent;\n",
              "      border-left-color: var(--fill-color);\n",
              "      border-top-color: var(--fill-color);\n",
              "      border-right-color: var(--fill-color);\n",
              "    }\n",
              "    40% {\n",
              "      border-color: transparent;\n",
              "      border-right-color: var(--fill-color);\n",
              "      border-top-color: var(--fill-color);\n",
              "    }\n",
              "    60% {\n",
              "      border-color: transparent;\n",
              "      border-right-color: var(--fill-color);\n",
              "    }\n",
              "    80% {\n",
              "      border-color: transparent;\n",
              "      border-right-color: var(--fill-color);\n",
              "      border-bottom-color: var(--fill-color);\n",
              "    }\n",
              "    90% {\n",
              "      border-color: transparent;\n",
              "      border-bottom-color: var(--fill-color);\n",
              "    }\n",
              "  }\n",
              "</style>\n",
              "\n",
              "      <script>\n",
              "        async function quickchart(key) {\n",
              "          const quickchartButtonEl =\n",
              "            document.querySelector('#' + key + ' button');\n",
              "          quickchartButtonEl.disabled = true;  // To prevent multiple clicks.\n",
              "          quickchartButtonEl.classList.add('colab-df-spinner');\n",
              "          try {\n",
              "            const charts = await google.colab.kernel.invokeFunction(\n",
              "                'suggestCharts', [key], {});\n",
              "          } catch (error) {\n",
              "            console.error('Error during call to suggestCharts:', error);\n",
              "          }\n",
              "          quickchartButtonEl.classList.remove('colab-df-spinner');\n",
              "          quickchartButtonEl.classList.add('colab-df-quickchart-complete');\n",
              "        }\n",
              "        (() => {\n",
              "          let quickchartButtonEl =\n",
              "            document.querySelector('#df-4eb5c936-4f4e-4138-8c7c-1a50fb30feaa button');\n",
              "          quickchartButtonEl.style.display =\n",
              "            google.colab.kernel.accessAllowed ? 'block' : 'none';\n",
              "        })();\n",
              "      </script>\n",
              "    </div>\n",
              "\n",
              "    </div>\n",
              "  </div>\n"
            ],
            "application/vnd.google.colaboratory.intrinsic+json": {
              "type": "dataframe",
              "variable_name": "df",
              "summary": "{\n  \"name\": \"df\",\n  \"rows\": 20,\n  \"fields\": [\n    {\n      \"column\": \"Name\",\n      \"properties\": {\n        \"dtype\": \"category\",\n        \"num_unique_values\": 6,\n        \"samples\": [\n          \"George\",\n          \"Diana\",\n          \"Bob\"\n        ],\n        \"semantic_type\": \"\",\n        \"description\": \"\"\n      }\n    },\n    {\n      \"column\": \"Age\",\n      \"properties\": {\n        \"dtype\": \"number\",\n        \"std\": 11,\n        \"min\": 23,\n        \"max\": 59,\n        \"num_unique_values\": 17,\n        \"samples\": [\n          43,\n          23,\n          42\n        ],\n        \"semantic_type\": \"\",\n        \"description\": \"\"\n      }\n    },\n    {\n      \"column\": \"Department\",\n      \"properties\": {\n        \"dtype\": \"category\",\n        \"num_unique_values\": 4,\n        \"samples\": [\n          \"Marketing\",\n          \"Sales\",\n          \"HR\"\n        ],\n        \"semantic_type\": \"\",\n        \"description\": \"\"\n      }\n    },\n    {\n      \"column\": \"Salary\",\n      \"properties\": {\n        \"dtype\": \"number\",\n        \"std\": 24001,\n        \"min\": 41016,\n        \"max\": 118953,\n        \"num_unique_values\": 20,\n        \"samples\": [\n          75920,\n          80397,\n          72606\n        ],\n        \"semantic_type\": \"\",\n        \"description\": \"\"\n      }\n    },\n    {\n      \"column\": \"YearsExperience\",\n      \"properties\": {\n        \"dtype\": \"number\",\n        \"std\": 5,\n        \"min\": 0,\n        \"max\": 18,\n        \"num_unique_values\": 13,\n        \"samples\": [\n          16,\n          10,\n          15\n        ],\n        \"semantic_type\": \"\",\n        \"description\": \"\"\n      }\n    }\n  ]\n}"
            }
          },
          "metadata": {},
          "execution_count": 17
        }
      ]
    },
    {
      "cell_type": "markdown",
      "source": [
        "# 🧪 PRACTICE QUESTIONS BELOW\n",
        "\n",
        "\n",
        "# 1️⃣ Use .loc to select all rows where the Department is 'Tech'.\n",
        "#    - Describe what .loc does and why it's useful for label-based filtering.\n"
      ],
      "metadata": {
        "id": "COOLrDWX14rD"
      }
    },
    {
      "cell_type": "code",
      "source": [
        "# Explanation:-\n",
        "# .loc is used for label selection in Pandas, as it filters rows based on our conditions.\n",
        "# We use it to see a specific type of data according to the condition we decide\n",
        "# in this example we select all rows where Department is 'Tech'.\n",
        "\n",
        "# Code:\n",
        "tech_employees = df.loc[df['Department'] == 'Tech']\n",
        "print(tech_employees)\n"
      ],
      "metadata": {
        "id": "xIuTOcDb2ebZ",
        "colab": {
          "base_uri": "https://localhost:8080/"
        },
        "outputId": "dd2aee34-3688-4b24-c184-f0f5fa7f2034"
      },
      "execution_count": 18,
      "outputs": [
        {
          "output_type": "stream",
          "name": "stdout",
          "text": [
            "       Name  Age Department  Salary  YearsExperience\n",
            "2     Ethan   45       Tech  109479               17\n",
            "4   Charlie   59       Tech  106557               12\n",
            "12  Charlie   49       Tech  111211               11\n",
            "13  Charlie   37       Tech  105697                7\n",
            "15    Ethan   24       Tech   72606               18\n",
            "17   Hannah   28       Tech   80397                7\n",
            "19  Charlie   30       Tech   95591                2\n"
          ]
        }
      ]
    },
    {
      "cell_type": "markdown",
      "source": [
        "\n",
        "# 2️⃣ Use .iloc to select the first 5 rows and the last two columns.\n",
        "#    - What is the difference between .loc and .iloc?\n"
      ],
      "metadata": {
        "id": "RmHzXmu318u0"
      }
    },
    {
      "cell_type": "code",
      "source": [
        "# Explanation:-\n",
        "# .loc is label based selection, as it selects rows and columns using their (names).\n",
        "# .iloc is position based selection, as it selects rows and columns using (index numbers).\n",
        "\n",
        "# Code:\n",
        "x = df.iloc[0:5,-2:]\n",
        "print(x)"
      ],
      "metadata": {
        "id": "3ahySeue2fCn",
        "colab": {
          "base_uri": "https://localhost:8080/"
        },
        "outputId": "6f4e3751-1624-471c-98d1-7d96f6509f3a"
      },
      "execution_count": 19,
      "outputs": [
        {
          "output_type": "stream",
          "name": "stdout",
          "text": [
            "   Salary  YearsExperience\n",
            "0   75920               15\n",
            "1  107121               12\n",
            "2  109479               17\n",
            "3   59457               14\n",
            "4  106557               12\n"
          ]
        }
      ]
    },
    {
      "cell_type": "markdown",
      "source": [
        "\n",
        "# 3️⃣ Map a new column called 'DeptCode' where:\n",
        "#     'Sales' -> 1, 'Marketing' -> 2, 'HR' -> 3, 'Tech' -> 4.\n",
        "#    - Use .map and explain what happens if a value is not mapped.\n"
      ],
      "metadata": {
        "id": "36156bFO198O"
      }
    },
    {
      "cell_type": "code",
      "source": [
        "# Explanation:\n",
        "# .map() is used to map each value in the 'Department' column to a corresponding code based on a dictionary.\n",
        "# If a value in 'Department' does NOT exist in the mapping dictionary, the result will be NaN.\n",
        "# This happens because .map() will return NaN for unmapped values.\n",
        "\n",
        "# Code:\n",
        "dept_mapping = {\n",
        "    'Sales': 1, 'Marketing': 2, 'HR': 3, 'Tech': 4\n",
        "}\n",
        "df['DeptCode'] = df['Department'].map(dept_mapping)\n",
        "print(df[['Department', 'DeptCode']])"
      ],
      "metadata": {
        "id": "vGfO663F2gEV",
        "colab": {
          "base_uri": "https://localhost:8080/"
        },
        "outputId": "4d001557-4bb7-4af8-f89b-80a51f50df67"
      },
      "execution_count": 49,
      "outputs": [
        {
          "output_type": "stream",
          "name": "stdout",
          "text": [
            "   Department  DeptCode\n",
            "0          HR         3\n",
            "1   Marketing         2\n",
            "2        Tech         4\n",
            "3       Sales         1\n",
            "4        Tech         4\n",
            "5   Marketing         2\n",
            "6   Marketing         2\n",
            "7   Marketing         2\n",
            "8       Sales         1\n",
            "9   Marketing         2\n",
            "10      Sales         1\n",
            "11  Marketing         2\n",
            "12       Tech         4\n",
            "13       Tech         4\n",
            "14         HR         3\n",
            "15       Tech         4\n",
            "16         HR         3\n",
            "17       Tech         4\n",
            "18      Sales         1\n",
            "19       Tech         4\n"
          ]
        }
      ]
    },
    {
      "cell_type": "markdown",
      "source": [
        "\n",
        "# 4️⃣ Use .apply to calculate a new column 'Seniority' where:\n",
        "#     - If YearsExperience > 10 → 'Senior'\n",
        "#     - If between 5-10 → 'Mid-Level'\n",
        "#     - Else → 'Junior'\n",
        "#    - Use a lambda function with apply.\n"
      ],
      "metadata": {
        "id": "F4UBD8S-1_ds"
      }
    },
    {
      "cell_type": "code",
      "source": [
        "# Code:\n",
        "df['Seniority'] = df['YearsExperience'].apply(\n",
        "    lambda x: 'Senior' if x > 10 else ('Mid-Level' if x >= 5 else 'Junior')\n",
        ")\n",
        "print(df[['YearsExperience', 'Seniority']])\n"
      ],
      "metadata": {
        "id": "PC6O6UWa2gq5",
        "colab": {
          "base_uri": "https://localhost:8080/"
        },
        "outputId": "83eb753c-a6f7-43f8-c9cd-62d732624cfb"
      },
      "execution_count": 20,
      "outputs": [
        {
          "output_type": "stream",
          "name": "stdout",
          "text": [
            "    YearsExperience  Seniority\n",
            "0                15     Senior\n",
            "1                12     Senior\n",
            "2                17     Senior\n",
            "3                14     Senior\n",
            "4                12     Senior\n",
            "5                 8  Mid-Level\n",
            "6                14     Senior\n",
            "7                12     Senior\n",
            "8                 0     Junior\n",
            "9                 6  Mid-Level\n",
            "10                8  Mid-Level\n",
            "11                0     Junior\n",
            "12               11     Senior\n",
            "13                7  Mid-Level\n",
            "14               10  Mid-Level\n",
            "15               18     Senior\n",
            "16               16     Senior\n",
            "17                7  Mid-Level\n",
            "18                2     Junior\n",
            "19                2     Junior\n"
          ]
        }
      ]
    },
    {
      "cell_type": "markdown",
      "source": [
        "\n",
        "# 5️⃣ Overwrite all salaries for employees with < 3 years of experience to 35000.\n",
        "#    - Use boolean indexing with .loc to do this.\n"
      ],
      "metadata": {
        "id": "9IsCMyfi2BkI"
      }
    },
    {
      "cell_type": "code",
      "source": [
        "df.loc[df['YearsExperience'] < 3, 'Salary'] = 35000\n",
        "print(df[['YearsExperience', 'Salary']])"
      ],
      "metadata": {
        "id": "U96LSSlv2h04",
        "colab": {
          "base_uri": "https://localhost:8080/"
        },
        "outputId": "d662aaf8-5da7-4439-b105-20e048aa20c6"
      },
      "execution_count": 22,
      "outputs": [
        {
          "output_type": "stream",
          "name": "stdout",
          "text": [
            "    YearsExperience  Salary\n",
            "0                15   75920\n",
            "1                12  107121\n",
            "2                17  109479\n",
            "3                14   59457\n",
            "4                12  106557\n",
            "5                 8  117189\n",
            "6                14  118953\n",
            "7                12   92995\n",
            "8                 0   35000\n",
            "9                 6   49692\n",
            "10                8   85758\n",
            "11                0   35000\n",
            "12               11  111211\n",
            "13                7  105697\n",
            "14               10   77065\n",
            "15               18   72606\n",
            "16               16   51534\n",
            "17                7   80397\n",
            "18                2   35000\n",
            "19                2   35000\n"
          ]
        }
      ]
    },
    {
      "cell_type": "markdown",
      "source": [
        "\n",
        "# 6️⃣ Compare using .loc and .iloc to select the same row:\n",
        "#    - Select the 3rd row using .iloc\n",
        "#    - Find its index value and use .loc to select the same row by label\n"
      ],
      "metadata": {
        "id": "xmIKaXDH2CwE"
      }
    },
    {
      "cell_type": "code",
      "source": [
        "# Code:\n",
        "third_row = df.iloc[2]\n",
        "print(\"using iloc:\\n\", third_row)\n",
        "\n",
        "row_index = df.index[2]\n",
        "thirdRowLoc = df.loc[row_index]\n",
        "print(\"\\nusing loc:\\n\", thirdRowLoc)"
      ],
      "metadata": {
        "id": "7Y4VrlBn2igs",
        "colab": {
          "base_uri": "https://localhost:8080/"
        },
        "outputId": "cb407397-f577-4b35-a8bf-7cb1ba9c444d"
      },
      "execution_count": 24,
      "outputs": [
        {
          "output_type": "stream",
          "name": "stdout",
          "text": [
            "using iloc:\n",
            " Name                Ethan\n",
            "Age                    45\n",
            "Department           Tech\n",
            "Salary             109479\n",
            "YearsExperience        17\n",
            "Seniority          Senior\n",
            "Name: 2, dtype: object\n",
            "\n",
            "using loc:\n",
            " Name                Ethan\n",
            "Age                    45\n",
            "Department           Tech\n",
            "Salary             109479\n",
            "YearsExperience        17\n",
            "Seniority          Senior\n",
            "Name: 2, dtype: object\n"
          ]
        }
      ]
    },
    {
      "cell_type": "markdown",
      "source": [
        "\n",
        "# 7️⃣ Check if there are any duplicate names in the dataset.\n",
        "#    - If there are, show only those duplicated rows.\n"
      ],
      "metadata": {
        "id": "lVu_9fuR2EoF"
      }
    },
    {
      "cell_type": "code",
      "source": [
        "# Code:\n",
        "duplicates= df[df.duplicated(subset='Name', keep=False)]\n",
        "print(\"Duplicated rows':\\n\", duplicates)"
      ],
      "metadata": {
        "id": "1q6SQHhH2jMu",
        "colab": {
          "base_uri": "https://localhost:8080/"
        },
        "outputId": "59e40f77-615a-4dec-ee57-140970f0bb60"
      },
      "execution_count": 25,
      "outputs": [
        {
          "output_type": "stream",
          "name": "stdout",
          "text": [
            "Duplicated rows':\n",
            "        Name  Age Department  Salary  YearsExperience  Seniority\n",
            "0    George   43         HR   75920               15     Senior\n",
            "1     Diana   23  Marketing  107121               12     Senior\n",
            "2     Ethan   45       Tech  109479               17     Senior\n",
            "3    George   51      Sales   59457               14     Senior\n",
            "4   Charlie   59       Tech  106557               12     Senior\n",
            "5    Hannah   23  Marketing  117189                8  Mid-Level\n",
            "6     Ethan   42  Marketing  118953               14     Senior\n",
            "7     Ethan   54  Marketing   92995               12     Senior\n",
            "8    George   33      Sales   35000                0     Junior\n",
            "10  Charlie   46      Sales   85758                8  Mid-Level\n",
            "11   George   48  Marketing   35000                0     Junior\n",
            "12  Charlie   49       Tech  111211               11     Senior\n",
            "13  Charlie   37       Tech  105697                7  Mid-Level\n",
            "14   Hannah   36         HR   77065               10  Mid-Level\n",
            "15    Ethan   24       Tech   72606               18     Senior\n",
            "16    Diana   58         HR   51534               16     Senior\n",
            "17   Hannah   28       Tech   80397                7  Mid-Level\n",
            "18   Hannah   42      Sales   35000                2     Junior\n",
            "19  Charlie   30       Tech   35000                2     Junior\n"
          ]
        }
      ]
    },
    {
      "cell_type": "markdown",
      "source": [
        "\n",
        "# 8️⃣ Sort the DataFrame by Salary in descending order.\n",
        "#    - Then sort it by Department and within Department by Age.\n"
      ],
      "metadata": {
        "id": "1zeHaO1p2Gy2"
      }
    },
    {
      "cell_type": "code",
      "source": [
        "# Code:\n",
        "# Sort by Salary descending\n",
        "sorted_salary = df.sort_values(by='Salary', ascending=False)\n",
        "print(\"Sorted by Salary:\\n\",sorted_salary[['Name', 'Department', 'Salary']])\n",
        "\n",
        "# Sort by Department, then Age\n",
        "sorted_dept_age = df.sort_values(by=['Department', 'Age'])\n",
        "print(\"\\nSorted by Department and Age:\\n\",sorted_dept_age[['Name', 'Department', 'Age']])\n"
      ],
      "metadata": {
        "id": "MatI2IZe2j-z",
        "colab": {
          "base_uri": "https://localhost:8080/"
        },
        "outputId": "3113a640-e40c-44e7-dc17-08fcdbef1f9e"
      },
      "execution_count": 26,
      "outputs": [
        {
          "output_type": "stream",
          "name": "stdout",
          "text": [
            "Sorted by Salary:\n",
            "        Name Department  Salary\n",
            "6     Ethan  Marketing  118953\n",
            "5    Hannah  Marketing  117189\n",
            "12  Charlie       Tech  111211\n",
            "2     Ethan       Tech  109479\n",
            "1     Diana  Marketing  107121\n",
            "4   Charlie       Tech  106557\n",
            "13  Charlie       Tech  105697\n",
            "7     Ethan  Marketing   92995\n",
            "10  Charlie      Sales   85758\n",
            "17   Hannah       Tech   80397\n",
            "14   Hannah         HR   77065\n",
            "0    George         HR   75920\n",
            "15    Ethan       Tech   72606\n",
            "3    George      Sales   59457\n",
            "16    Diana         HR   51534\n",
            "9       Bob  Marketing   49692\n",
            "11   George  Marketing   35000\n",
            "8    George      Sales   35000\n",
            "18   Hannah      Sales   35000\n",
            "19  Charlie       Tech   35000\n",
            "\n",
            "Sorted by Department and Age:\n",
            "        Name Department  Age\n",
            "14   Hannah         HR   36\n",
            "0    George         HR   43\n",
            "16    Diana         HR   58\n",
            "1     Diana  Marketing   23\n",
            "5    Hannah  Marketing   23\n",
            "6     Ethan  Marketing   42\n",
            "9       Bob  Marketing   43\n",
            "11   George  Marketing   48\n",
            "7     Ethan  Marketing   54\n",
            "8    George      Sales   33\n",
            "18   Hannah      Sales   42\n",
            "10  Charlie      Sales   46\n",
            "3    George      Sales   51\n",
            "15    Ethan       Tech   24\n",
            "17   Hannah       Tech   28\n",
            "19  Charlie       Tech   30\n",
            "13  Charlie       Tech   37\n",
            "2     Ethan       Tech   45\n",
            "12  Charlie       Tech   49\n",
            "4   Charlie       Tech   59\n"
          ]
        }
      ]
    },
    {
      "cell_type": "markdown",
      "source": [
        "\n",
        "# 9️⃣ Slice the DataFrame to return rows 5 through 12 and columns 'Name', 'Salary'\n",
        "#    - Try slicing using both label-based and position-based methods.\n"
      ],
      "metadata": {
        "id": "HXwU6hTb2Ksv"
      }
    },
    {
      "cell_type": "code",
      "source": [
        "# Code:\n",
        "# label-based\n",
        "sliced_loc = df.loc[5:12, ['Name', 'Salary']]\n",
        "print(\"\\nSlicing with loc:\\n\", sliced_loc)\n",
        "\n",
        "# position-based\n",
        "sliced_iloc = df.iloc[5:13, [0, 3]]\n",
        "print(\"Slicing with iloc:\\n\", sliced_iloc)"
      ],
      "metadata": {
        "id": "wqOj-pOH2kmd",
        "colab": {
          "base_uri": "https://localhost:8080/"
        },
        "outputId": "2b9b7d1b-5631-47d4-f64a-967faf52c443"
      },
      "execution_count": 27,
      "outputs": [
        {
          "output_type": "stream",
          "name": "stdout",
          "text": [
            "\n",
            "Slicing with loc:\n",
            "        Name  Salary\n",
            "5    Hannah  117189\n",
            "6     Ethan  118953\n",
            "7     Ethan   92995\n",
            "8    George   35000\n",
            "9       Bob   49692\n",
            "10  Charlie   85758\n",
            "11   George   35000\n",
            "12  Charlie  111211\n",
            "Slicing with iloc:\n",
            "        Name  Salary\n",
            "5    Hannah  117189\n",
            "6     Ethan  118953\n",
            "7     Ethan   92995\n",
            "8    George   35000\n",
            "9       Bob   49692\n",
            "10  Charlie   85758\n",
            "11   George   35000\n",
            "12  Charlie  111211\n"
          ]
        }
      ]
    },
    {
      "cell_type": "markdown",
      "source": [
        "\n",
        "# 🔟 Find all rows where the name starts with 'A' or 'D'.\n",
        "#    - Use string methods with .str accessor.\n"
      ],
      "metadata": {
        "id": "wF8r5U8G2MAq"
      }
    },
    {
      "cell_type": "code",
      "source": [
        "# Code:\n",
        "names = df.loc[df['Name'].str.startswith(('A', 'D'))]\n",
        "print(\"Names starting with A or D:\\n\",names[['Name', 'Department']])\n"
      ],
      "metadata": {
        "id": "NYqLXs_e2lsl",
        "colab": {
          "base_uri": "https://localhost:8080/"
        },
        "outputId": "37ece98b-7154-4797-a4ff-fe1f54ad5dd2"
      },
      "execution_count": 28,
      "outputs": [
        {
          "output_type": "stream",
          "name": "stdout",
          "text": [
            "Names starting with A or D:\n",
            "      Name Department\n",
            "1   Diana  Marketing\n",
            "16  Diana         HR\n"
          ]
        }
      ]
    },
    {
      "cell_type": "markdown",
      "source": [
        "\n",
        "# 1️⃣1️⃣ Drop all rows where Age is below 25.\n",
        "#     - Explain whether this modifies the DataFrame in place or returns a copy.\n"
      ],
      "metadata": {
        "id": "Yd_SkvsI2Nvn"
      }
    },
    {
      "cell_type": "code",
      "source": [
        "# Explanation:-\n",
        "# This operation returns a new DataFrame (copy) and does not modify df in place.\n",
        "# To modify it in it's place we will need to use \"inplace=True with drop().\n",
        "# Code:\n",
        "age = df[df['Age'] >= 25]\n",
        "print(\"After dropping Age < 25:\\n\",age)\n"
      ],
      "metadata": {
        "id": "EgrbPKED2ny5",
        "colab": {
          "base_uri": "https://localhost:8080/"
        },
        "outputId": "e5800e31-c506-41d8-f7c3-cc1e359e0520"
      },
      "execution_count": 33,
      "outputs": [
        {
          "output_type": "stream",
          "name": "stdout",
          "text": [
            "After dropping Age < 25:\n",
            "        Name  Age Department  Salary  YearsExperience  Seniority\n",
            "0    George   43         HR   75920               15     Senior\n",
            "2     Ethan   45       Tech  109479               17     Senior\n",
            "3    George   51      Sales   59457               14     Senior\n",
            "4   Charlie   59       Tech  106557               12     Senior\n",
            "6     Ethan   42  Marketing  118953               14     Senior\n",
            "7     Ethan   54  Marketing   92995               12     Senior\n",
            "8    George   33      Sales   35000                0     Junior\n",
            "9       Bob   43  Marketing   49692                6  Mid-Level\n",
            "10  Charlie   46      Sales   85758                8  Mid-Level\n",
            "11   George   48  Marketing   35000                0     Junior\n",
            "12  Charlie   49       Tech  111211               11     Senior\n",
            "13  Charlie   37       Tech  105697                7  Mid-Level\n",
            "14   Hannah   36         HR   77065               10  Mid-Level\n",
            "16    Diana   58         HR   51534               16     Senior\n",
            "17   Hannah   28       Tech   80397                7  Mid-Level\n",
            "18   Hannah   42      Sales   35000                2     Junior\n",
            "19  Charlie   30       Tech   35000                2     Junior\n"
          ]
        }
      ]
    },
    {
      "cell_type": "markdown",
      "source": [
        "\n",
        "# 1️⃣2️⃣ Use groupby to calculate the average salary per Department.\n",
        "#     - Bonus: Show the average age and average experience too.\n"
      ],
      "metadata": {
        "id": "bfp6LIa12PkV"
      }
    },
    {
      "cell_type": "code",
      "source": [
        "# Group by Department and calculate our averages\n",
        "\n",
        "#.agg() let is do multiple aggregation operations on different columns at once\n",
        "\n",
        "department_averages = df.groupby('Department').agg({\n",
        "    'Salary':'mean', 'Age': 'mean', 'YearsExperience': 'mean' })\n",
        "\n",
        "print(\"Average Salary, Age, and Experience per Department:\\n\\n\", department_averages)\n"
      ],
      "metadata": {
        "id": "o6DWFvRw2onl",
        "colab": {
          "base_uri": "https://localhost:8080/"
        },
        "outputId": "b62a8241-5bc7-483c-a03a-97cf6b63c5a3"
      },
      "execution_count": 37,
      "outputs": [
        {
          "output_type": "stream",
          "name": "stdout",
          "text": [
            "Average Salary, Age, and Experience per Department:\n",
            "\n",
            "                   Salary        Age  YearsExperience\n",
            "Department                                          \n",
            "HR          68173.000000  45.666667        13.666667\n",
            "Marketing   86825.000000  38.833333         8.666667\n",
            "Sales       53803.750000  43.000000         6.000000\n",
            "Tech        88706.714286  38.857143        10.571429\n"
          ]
        }
      ]
    },
    {
      "cell_type": "markdown",
      "source": [
        "\n",
        "# 1️⃣3️⃣ Use groupby to count how many employees are in each Department.\n"
      ],
      "metadata": {
        "id": "44jsni7P2Qqy"
      }
    },
    {
      "cell_type": "code",
      "source": [
        "# Alternatively using groupby:\n",
        "count = df.groupby('Department').size()\n",
        "print(\"\\nNumber of employee in each Department:\\n\",count)\n"
      ],
      "metadata": {
        "id": "5EEXf1WK2pKX",
        "colab": {
          "base_uri": "https://localhost:8080/"
        },
        "outputId": "17f3fb62-49de-403f-a5f2-8e5673034704"
      },
      "execution_count": 38,
      "outputs": [
        {
          "output_type": "stream",
          "name": "stdout",
          "text": [
            "\n",
            "Number of employee in each Department:\n",
            " Department\n",
            "HR           3\n",
            "Marketing    6\n",
            "Sales        4\n",
            "Tech         7\n",
            "dtype: int64\n"
          ]
        }
      ]
    },
    {
      "cell_type": "markdown",
      "source": [
        "\n",
        "# 1️⃣4️⃣ Use .apply to normalize the Salary column (min-max scaling between 0 and 1).\n",
        "#     - Bonus: Write your own normalization function and pass it to apply.\n"
      ],
      "metadata": {
        "id": "9guz71AU2R0R"
      }
    },
    {
      "cell_type": "code",
      "source": [
        "#code:\n",
        "def minMaxNormalize(x,min,max):\n",
        "    return (x-min)/(max-min)\n",
        "\n",
        "min_salary= df['Salary'].min()\n",
        "max_salary= df['Salary'].max()\n",
        "\n",
        "df['NormalizedSalary'] = df['Salary'].apply(lambda x: minMaxNormalize(x,min_salary,max_salary))\n",
        "print(df[['Salary', 'NormalizedSalary']])"
      ],
      "metadata": {
        "id": "Dwh1lczW2qKa",
        "colab": {
          "base_uri": "https://localhost:8080/"
        },
        "outputId": "122599fc-1540-4f8e-fa22-8123807cac2e"
      },
      "execution_count": 40,
      "outputs": [
        {
          "output_type": "stream",
          "name": "stdout",
          "text": [
            "    Salary  NormalizedSalary\n",
            "0    75920          0.487416\n",
            "1   107121          0.859064\n",
            "2   109479          0.887151\n",
            "3    59457          0.291318\n",
            "4   106557          0.852346\n",
            "5   117189          0.978988\n",
            "6   118953          1.000000\n",
            "7    92995          0.690803\n",
            "8    35000          0.000000\n",
            "9    49692          0.175003\n",
            "10   85758          0.604600\n",
            "11   35000          0.000000\n",
            "12  111211          0.907782\n",
            "13  105697          0.842102\n",
            "14   77065          0.501054\n",
            "15   72606          0.447941\n",
            "16   51534          0.196944\n",
            "17   80397          0.540743\n",
            "18   35000          0.000000\n",
            "19   35000          0.000000\n"
          ]
        }
      ]
    },
    {
      "cell_type": "markdown",
      "source": [
        "\n",
        "# 1️⃣5️⃣ Use boolean indexing to find all employees who:\n",
        "#     - Are in 'HR' OR 'Tech', AND have > 5 years of experience.\n",
        "\n",
        "# 🔁 For many of these tasks, try both .loc and .iloc to build intuition on their differences.\n",
        "\n"
      ],
      "metadata": {
        "id": "r8GSudrV2VRt"
      }
    },
    {
      "cell_type": "code",
      "source": [
        "employees = df.loc[\n",
        "    ((df['Department'] == 'HR') | (df['Department'] == 'Tech')) &\n",
        "    (df['YearsExperience'] > 5) ]\n",
        "print(\"Employees in HR or Tech with more than 5 years experience:\\n\", employees)\n",
        "\n",
        "# Getting positions of Department and YearsExperience by columns\n",
        "dept_idx = df.columns.get_loc('Department')\n",
        "exp_idx = df.columns.get_loc('YearsExperience')\n",
        "\n",
        "# Use iloc for filtering\n",
        "#mask is a Boolean Series that marks rows where:-\n",
        "#Department is (HR or Tech)\n",
        "#YearsExperience is greater than 5\n",
        "#mask[mask] Filters only True rows\n",
        "#.index.tolist() Extracts their index labels as a list\n",
        "\n",
        "mask = ((df.iloc[:, dept_idx] == 'HR') | (df.iloc[:, dept_idx] == 'Tech')) & (df.iloc[:, exp_idx] > 5)\n",
        "positions = mask[mask].index.tolist()\n",
        "\n",
        "filtered= df.iloc[positions]\n",
        "print(\"Filtered using iloc:\\n\", filtered)\n",
        "\n"
      ],
      "metadata": {
        "id": "ClYGZE4C2rzJ",
        "colab": {
          "base_uri": "https://localhost:8080/"
        },
        "outputId": "acaa7acf-780c-4786-f893-f3594416788b"
      },
      "execution_count": 48,
      "outputs": [
        {
          "output_type": "stream",
          "name": "stdout",
          "text": [
            "Employees in HR or Tech with more than 5 years experience:\n",
            "        Name  Age Department  Salary  YearsExperience  Seniority  \\\n",
            "0    George   43         HR   75920               15     Senior   \n",
            "2     Ethan   45       Tech  109479               17     Senior   \n",
            "4   Charlie   59       Tech  106557               12     Senior   \n",
            "12  Charlie   49       Tech  111211               11     Senior   \n",
            "13  Charlie   37       Tech  105697                7  Mid-Level   \n",
            "14   Hannah   36         HR   77065               10  Mid-Level   \n",
            "15    Ethan   24       Tech   72606               18     Senior   \n",
            "16    Diana   58         HR   51534               16     Senior   \n",
            "17   Hannah   28       Tech   80397                7  Mid-Level   \n",
            "\n",
            "    NormalizedSalary  \n",
            "0           0.487416  \n",
            "2           0.887151  \n",
            "4           0.852346  \n",
            "12          0.907782  \n",
            "13          0.842102  \n",
            "14          0.501054  \n",
            "15          0.447941  \n",
            "16          0.196944  \n",
            "17          0.540743  \n",
            "Filtered using iloc:\n",
            "        Name  Age Department  Salary  YearsExperience  Seniority  \\\n",
            "0    George   43         HR   75920               15     Senior   \n",
            "2     Ethan   45       Tech  109479               17     Senior   \n",
            "4   Charlie   59       Tech  106557               12     Senior   \n",
            "12  Charlie   49       Tech  111211               11     Senior   \n",
            "13  Charlie   37       Tech  105697                7  Mid-Level   \n",
            "14   Hannah   36         HR   77065               10  Mid-Level   \n",
            "15    Ethan   24       Tech   72606               18     Senior   \n",
            "16    Diana   58         HR   51534               16     Senior   \n",
            "17   Hannah   28       Tech   80397                7  Mid-Level   \n",
            "\n",
            "    NormalizedSalary  \n",
            "0           0.487416  \n",
            "2           0.887151  \n",
            "4           0.852346  \n",
            "12          0.907782  \n",
            "13          0.842102  \n",
            "14          0.501054  \n",
            "15          0.447941  \n",
            "16          0.196944  \n",
            "17          0.540743  \n"
          ]
        }
      ]
    }
  ]
}